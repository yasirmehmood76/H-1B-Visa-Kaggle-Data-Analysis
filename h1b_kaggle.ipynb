{
 "cells": [
  {
   "cell_type": "markdown",
   "metadata": {},
   "source": [
    "<h1 style=\"font-size:2em;color:#2467C0\"> H-1B Visa Kaggle Data Analysis </h1>"
   ]
  },
  {
   "cell_type": "code",
   "execution_count": 146,
   "metadata": {
    "collapsed": true
   },
   "outputs": [],
   "source": [
    "import pandas as pd\n",
    "import numpy as np\n",
    "import random\n",
    "import matplotlib.pyplot as plt"
   ]
  },
  {
   "cell_type": "code",
   "execution_count": 147,
   "metadata": {},
   "outputs": [
    {
     "data": {
      "text/plain": [
       "(3002458, 11)"
      ]
     },
     "execution_count": 147,
     "metadata": {},
     "output_type": "execute_result"
    }
   ],
   "source": [
    "data = pd.read_csv('h1b_kaggle.csv')\n",
    "data.shape"
   ]
  },
  {
   "cell_type": "code",
   "execution_count": 148,
   "metadata": {},
   "outputs": [
    {
     "name": "stdout",
     "output_type": "stream",
     "text": [
      "<class 'pandas.core.frame.DataFrame'>\n"
     ]
    }
   ],
   "source": [
    "print(type(data))"
   ]
  },
  {
   "cell_type": "code",
   "execution_count": 149,
   "metadata": {},
   "outputs": [
    {
     "data": {
      "text/plain": [
       "Unnamed: 0              int64\n",
       "CASE_STATUS            object\n",
       "EMPLOYER_NAME          object\n",
       "SOC_NAME               object\n",
       "JOB_TITLE              object\n",
       "FULL_TIME_POSITION     object\n",
       "PREVAILING_WAGE       float64\n",
       "YEAR                  float64\n",
       "WORKSITE               object\n",
       "lon                   float64\n",
       "lat                   float64\n",
       "dtype: object"
      ]
     },
     "execution_count": 149,
     "metadata": {},
     "output_type": "execute_result"
    }
   ],
   "source": [
    "data.dtypes"
   ]
  },
  {
   "cell_type": "code",
   "execution_count": 150,
   "metadata": {},
   "outputs": [
    {
     "data": {
      "text/plain": [
       "Index(['Unnamed: 0', 'CASE_STATUS', 'EMPLOYER_NAME', 'SOC_NAME', 'JOB_TITLE',\n",
       "       'FULL_TIME_POSITION', 'PREVAILING_WAGE', 'YEAR', 'WORKSITE', 'lon',\n",
       "       'lat'],\n",
       "      dtype='object')"
      ]
     },
     "execution_count": 150,
     "metadata": {},
     "output_type": "execute_result"
    }
   ],
   "source": [
    "data.columns"
   ]
  },
  {
   "cell_type": "code",
   "execution_count": 151,
   "metadata": {},
   "outputs": [
    {
     "data": {
      "text/plain": [
       "RangeIndex(start=0, stop=3002458, step=1)"
      ]
     },
     "execution_count": 151,
     "metadata": {},
     "output_type": "execute_result"
    }
   ],
   "source": [
    "data.index"
   ]
  },
  {
   "cell_type": "code",
   "execution_count": 152,
   "metadata": {},
   "outputs": [
    {
     "data": {
      "text/html": [
       "<div>\n",
       "<style>\n",
       "    .dataframe thead tr:only-child th {\n",
       "        text-align: right;\n",
       "    }\n",
       "\n",
       "    .dataframe thead th {\n",
       "        text-align: left;\n",
       "    }\n",
       "\n",
       "    .dataframe tbody tr th {\n",
       "        vertical-align: top;\n",
       "    }\n",
       "</style>\n",
       "<table border=\"1\" class=\"dataframe\">\n",
       "  <thead>\n",
       "    <tr style=\"text-align: right;\">\n",
       "      <th></th>\n",
       "      <th>Unnamed: 0</th>\n",
       "      <th>CASE_STATUS</th>\n",
       "      <th>EMPLOYER_NAME</th>\n",
       "      <th>SOC_NAME</th>\n",
       "      <th>JOB_TITLE</th>\n",
       "      <th>FULL_TIME_POSITION</th>\n",
       "      <th>PREVAILING_WAGE</th>\n",
       "      <th>YEAR</th>\n",
       "      <th>WORKSITE</th>\n",
       "      <th>lon</th>\n",
       "      <th>lat</th>\n",
       "    </tr>\n",
       "  </thead>\n",
       "  <tbody>\n",
       "    <tr>\n",
       "      <th>0</th>\n",
       "      <td>1</td>\n",
       "      <td>CERTIFIED-WITHDRAWN</td>\n",
       "      <td>UNIVERSITY OF MICHIGAN</td>\n",
       "      <td>BIOCHEMISTS AND BIOPHYSICISTS</td>\n",
       "      <td>POSTDOCTORAL RESEARCH FELLOW</td>\n",
       "      <td>N</td>\n",
       "      <td>36067.0</td>\n",
       "      <td>2016.0</td>\n",
       "      <td>ANN ARBOR, MICHIGAN</td>\n",
       "      <td>-83.743038</td>\n",
       "      <td>42.280826</td>\n",
       "    </tr>\n",
       "    <tr>\n",
       "      <th>1</th>\n",
       "      <td>2</td>\n",
       "      <td>CERTIFIED-WITHDRAWN</td>\n",
       "      <td>GOODMAN NETWORKS, INC.</td>\n",
       "      <td>CHIEF EXECUTIVES</td>\n",
       "      <td>CHIEF OPERATING OFFICER</td>\n",
       "      <td>Y</td>\n",
       "      <td>242674.0</td>\n",
       "      <td>2016.0</td>\n",
       "      <td>PLANO, TEXAS</td>\n",
       "      <td>-96.698886</td>\n",
       "      <td>33.019843</td>\n",
       "    </tr>\n",
       "    <tr>\n",
       "      <th>2</th>\n",
       "      <td>3</td>\n",
       "      <td>CERTIFIED-WITHDRAWN</td>\n",
       "      <td>PORTS AMERICA GROUP, INC.</td>\n",
       "      <td>CHIEF EXECUTIVES</td>\n",
       "      <td>CHIEF PROCESS OFFICER</td>\n",
       "      <td>Y</td>\n",
       "      <td>193066.0</td>\n",
       "      <td>2016.0</td>\n",
       "      <td>JERSEY CITY, NEW JERSEY</td>\n",
       "      <td>-74.077642</td>\n",
       "      <td>40.728158</td>\n",
       "    </tr>\n",
       "    <tr>\n",
       "      <th>3</th>\n",
       "      <td>4</td>\n",
       "      <td>CERTIFIED-WITHDRAWN</td>\n",
       "      <td>GATES CORPORATION, A WHOLLY-OWNED SUBSIDIARY O...</td>\n",
       "      <td>CHIEF EXECUTIVES</td>\n",
       "      <td>REGIONAL PRESIDEN, AMERICAS</td>\n",
       "      <td>Y</td>\n",
       "      <td>220314.0</td>\n",
       "      <td>2016.0</td>\n",
       "      <td>DENVER, COLORADO</td>\n",
       "      <td>-104.990251</td>\n",
       "      <td>39.739236</td>\n",
       "    </tr>\n",
       "    <tr>\n",
       "      <th>4</th>\n",
       "      <td>5</td>\n",
       "      <td>WITHDRAWN</td>\n",
       "      <td>PEABODY INVESTMENTS CORP.</td>\n",
       "      <td>CHIEF EXECUTIVES</td>\n",
       "      <td>PRESIDENT MONGOLIA AND INDIA</td>\n",
       "      <td>Y</td>\n",
       "      <td>157518.4</td>\n",
       "      <td>2016.0</td>\n",
       "      <td>ST. LOUIS, MISSOURI</td>\n",
       "      <td>-90.199404</td>\n",
       "      <td>38.627003</td>\n",
       "    </tr>\n",
       "  </tbody>\n",
       "</table>\n",
       "</div>"
      ],
      "text/plain": [
       "   Unnamed: 0          CASE_STATUS  \\\n",
       "0           1  CERTIFIED-WITHDRAWN   \n",
       "1           2  CERTIFIED-WITHDRAWN   \n",
       "2           3  CERTIFIED-WITHDRAWN   \n",
       "3           4  CERTIFIED-WITHDRAWN   \n",
       "4           5            WITHDRAWN   \n",
       "\n",
       "                                       EMPLOYER_NAME  \\\n",
       "0                             UNIVERSITY OF MICHIGAN   \n",
       "1                             GOODMAN NETWORKS, INC.   \n",
       "2                          PORTS AMERICA GROUP, INC.   \n",
       "3  GATES CORPORATION, A WHOLLY-OWNED SUBSIDIARY O...   \n",
       "4                          PEABODY INVESTMENTS CORP.   \n",
       "\n",
       "                        SOC_NAME                     JOB_TITLE  \\\n",
       "0  BIOCHEMISTS AND BIOPHYSICISTS  POSTDOCTORAL RESEARCH FELLOW   \n",
       "1               CHIEF EXECUTIVES       CHIEF OPERATING OFFICER   \n",
       "2               CHIEF EXECUTIVES         CHIEF PROCESS OFFICER   \n",
       "3               CHIEF EXECUTIVES   REGIONAL PRESIDEN, AMERICAS   \n",
       "4               CHIEF EXECUTIVES  PRESIDENT MONGOLIA AND INDIA   \n",
       "\n",
       "  FULL_TIME_POSITION  PREVAILING_WAGE    YEAR                 WORKSITE  \\\n",
       "0                  N          36067.0  2016.0      ANN ARBOR, MICHIGAN   \n",
       "1                  Y         242674.0  2016.0             PLANO, TEXAS   \n",
       "2                  Y         193066.0  2016.0  JERSEY CITY, NEW JERSEY   \n",
       "3                  Y         220314.0  2016.0         DENVER, COLORADO   \n",
       "4                  Y         157518.4  2016.0      ST. LOUIS, MISSOURI   \n",
       "\n",
       "          lon        lat  \n",
       "0  -83.743038  42.280826  \n",
       "1  -96.698886  33.019843  \n",
       "2  -74.077642  40.728158  \n",
       "3 -104.990251  39.739236  \n",
       "4  -90.199404  38.627003  "
      ]
     },
     "execution_count": 152,
     "metadata": {},
     "output_type": "execute_result"
    }
   ],
   "source": [
    "data.head()"
   ]
  },
  {
   "cell_type": "code",
   "execution_count": 153,
   "metadata": {},
   "outputs": [
    {
     "data": {
      "text/plain": [
       "8"
      ]
     },
     "execution_count": 153,
     "metadata": {},
     "output_type": "execute_result"
    }
   ],
   "source": [
    "case_status = data['CASE_STATUS'].unique().tolist()\n",
    "len(case_status)"
   ]
  },
  {
   "cell_type": "code",
   "execution_count": 154,
   "metadata": {
    "scrolled": true
   },
   "outputs": [
    {
     "name": "stdout",
     "output_type": "stream",
     "text": [
      "['CERTIFIED-WITHDRAWN', 'WITHDRAWN', 'CERTIFIED', 'DENIED', 'REJECTED', 'INVALIDATED', 'PENDING QUALITY AND COMPLIANCE REVIEW - UNASSIGNED', nan]\n"
     ]
    }
   ],
   "source": [
    "print(case_status)"
   ]
  },
  {
   "cell_type": "code",
   "execution_count": 155,
   "metadata": {},
   "outputs": [
    {
     "data": {
      "text/plain": [
       "236014"
      ]
     },
     "execution_count": 155,
     "metadata": {},
     "output_type": "execute_result"
    }
   ],
   "source": [
    "employer = data['EMPLOYER_NAME'].unique().tolist()\n",
    "len(employer)"
   ]
  },
  {
   "cell_type": "code",
   "execution_count": 156,
   "metadata": {},
   "outputs": [
    {
     "data": {
      "text/plain": [
       "2133"
      ]
     },
     "execution_count": 156,
     "metadata": {},
     "output_type": "execute_result"
    }
   ],
   "source": [
    "profession = data['SOC_NAME'].unique().tolist()\n",
    "len(profession)"
   ]
  },
  {
   "cell_type": "code",
   "execution_count": 157,
   "metadata": {},
   "outputs": [
    {
     "data": {
      "text/plain": [
       "287550"
      ]
     },
     "execution_count": 157,
     "metadata": {},
     "output_type": "execute_result"
    }
   ],
   "source": [
    "job = data['JOB_TITLE'].unique().tolist()\n",
    "len(job)"
   ]
  },
  {
   "cell_type": "code",
   "execution_count": 158,
   "metadata": {},
   "outputs": [
    {
     "data": {
      "text/plain": [
       "3"
      ]
     },
     "execution_count": 158,
     "metadata": {},
     "output_type": "execute_result"
    }
   ],
   "source": [
    "full_time_position = data['FULL_TIME_POSITION'].unique().tolist()\n",
    "len(full_time_position)"
   ]
  },
  {
   "cell_type": "code",
   "execution_count": 159,
   "metadata": {},
   "outputs": [
    {
     "name": "stdout",
     "output_type": "stream",
     "text": [
      "['N', 'Y', nan]\n"
     ]
    }
   ],
   "source": [
    "print(full_time_position)"
   ]
  },
  {
   "cell_type": "code",
   "execution_count": 160,
   "metadata": {},
   "outputs": [
    {
     "data": {
      "text/plain": [
       "count    3.002373e+06\n",
       "mean     1.469984e+05\n",
       "std      5.287609e+06\n",
       "min      0.000000e+00\n",
       "25%      5.437100e+04\n",
       "50%      6.502100e+04\n",
       "75%      8.143200e+04\n",
       "max      6.997607e+09\n",
       "Name: PREVAILING_WAGE, dtype: float64"
      ]
     },
     "execution_count": 160,
     "metadata": {},
     "output_type": "execute_result"
    }
   ],
   "source": [
    "data['PREVAILING_WAGE'].describe()"
   ]
  },
  {
   "cell_type": "code",
   "execution_count": 161,
   "metadata": {},
   "outputs": [
    {
     "data": {
      "text/plain": [
       "7"
      ]
     },
     "execution_count": 161,
     "metadata": {},
     "output_type": "execute_result"
    }
   ],
   "source": [
    "year = data['YEAR'].unique().tolist()\n",
    "len(year)"
   ]
  },
  {
   "cell_type": "code",
   "execution_count": 162,
   "metadata": {},
   "outputs": [
    {
     "name": "stdout",
     "output_type": "stream",
     "text": [
      "[2016.0, 2015.0, 2014.0, 2013.0, 2012.0, 2011.0, nan]\n"
     ]
    }
   ],
   "source": [
    "print(year)"
   ]
  },
  {
   "cell_type": "code",
   "execution_count": 163,
   "metadata": {},
   "outputs": [
    {
     "data": {
      "text/plain": [
       "18622"
      ]
     },
     "execution_count": 163,
     "metadata": {},
     "output_type": "execute_result"
    }
   ],
   "source": [
    "work_site = data['WORKSITE'].unique().tolist()\n",
    "len(work_site)"
   ]
  },
  {
   "cell_type": "code",
   "execution_count": 164,
   "metadata": {},
   "outputs": [
    {
     "data": {
      "text/plain": [
       "Unnamed: 0            False\n",
       "CASE_STATUS            True\n",
       "EMPLOYER_NAME          True\n",
       "SOC_NAME               True\n",
       "JOB_TITLE              True\n",
       "FULL_TIME_POSITION     True\n",
       "PREVAILING_WAGE        True\n",
       "YEAR                   True\n",
       "WORKSITE              False\n",
       "lon                    True\n",
       "lat                    True\n",
       "dtype: bool"
      ]
     },
     "execution_count": 164,
     "metadata": {},
     "output_type": "execute_result"
    }
   ],
   "source": [
    "data.isnull().any()"
   ]
  },
  {
   "cell_type": "code",
   "execution_count": 165,
   "metadata": {
    "collapsed": true
   },
   "outputs": [],
   "source": [
    "data = data.dropna()"
   ]
  },
  {
   "cell_type": "code",
   "execution_count": 166,
   "metadata": {},
   "outputs": [
    {
     "data": {
      "text/plain": [
       "Unnamed: 0            False\n",
       "CASE_STATUS           False\n",
       "EMPLOYER_NAME         False\n",
       "SOC_NAME              False\n",
       "JOB_TITLE             False\n",
       "FULL_TIME_POSITION    False\n",
       "PREVAILING_WAGE       False\n",
       "YEAR                  False\n",
       "WORKSITE              False\n",
       "lon                   False\n",
       "lat                   False\n",
       "dtype: bool"
      ]
     },
     "execution_count": 166,
     "metadata": {},
     "output_type": "execute_result"
    }
   ],
   "source": [
    "data.isnull().any()"
   ]
  },
  {
   "cell_type": "markdown",
   "metadata": {},
   "source": [
    "<h1 style=\"font-size:2em;color:#2467C0\">Visualization: Salary Data</h1>"
   ]
  },
  {
   "cell_type": "code",
   "execution_count": 167,
   "metadata": {},
   "outputs": [
    {
     "data": {
      "text/plain": [
       "<matplotlib.axes._subplots.AxesSubplot at 0x3e09b17b00>"
      ]
     },
     "execution_count": 167,
     "metadata": {},
     "output_type": "execute_result"
    },
    {
     "data": {
      "image/png": "[encoded data removed]",
      "text/plain": [
       "<matplotlib.figure.Figure at 0x3e39e41748>"
      ]
     },
     "metadata": {},
     "output_type": "display_data"
    }
   ],
   "source": [
    "%matplotlib inline\n",
    "data.boxplot(column='PREVAILING_WAGE', figsize=(10,7))"
   ]
  },
  {
   "cell_type": "code",
   "execution_count": 168,
   "metadata": {},
   "outputs": [],
   "source": [
    "case_status_counts=data['CASE_STATUS'].value_counts()"
   ]
  },
  {
   "cell_type": "code",
   "execution_count": 170,
   "metadata": {},
   "outputs": [
    {
     "data": {
      "text/plain": [
       "2877765"
      ]
     },
     "execution_count": 170,
     "metadata": {},
     "output_type": "execute_result"
    }
   ],
   "source": [
    "len(data['CASE_STATUS'])"
   ]
  },
  {
   "cell_type": "code",
   "execution_count": 169,
   "metadata": {},
   "outputs": [
    {
     "data": {
      "text/plain": [
       "CERTIFIED                                             2512114\n",
       "CERTIFIED-WITHDRAWN                                    195721\n",
       "DENIED                                                  85161\n",
       "WITHDRAWN                                               84752\n",
       "PENDING QUALITY AND COMPLIANCE REVIEW - UNASSIGNED         15\n",
       "REJECTED                                                    1\n",
       "INVALIDATED                                                 1\n",
       "Name: CASE_STATUS, dtype: int64"
      ]
     },
     "execution_count": 169,
     "metadata": {},
     "output_type": "execute_result"
    }
   ],
   "source": [
    "case_status_counts"
   ]
  },
  {
   "cell_type": "code",
   "execution_count": 171,
   "metadata": {},
   "outputs": [
    {
     "data": {
      "text/plain": [
       "<matplotlib.axes._subplots.AxesSubplot at 0x3d85026eb8>"
      ]
     },
     "execution_count": 171,
     "metadata": {},
     "output_type": "execute_result"
    },
    {
     "data": {
      "image/png": "[encoded data removed]",
      "text/plain": [
       "<matplotlib.figure.Figure at 0x3d85089198>"
      ]
     },
     "metadata": {},
     "output_type": "display_data"
    }
   ],
   "source": [
    "case_status_counts.plot(kind='bar',figsize=(10,7))"
   ]
  },
  {
   "cell_type": "code",
   "execution_count": 172,
   "metadata": {},
   "outputs": [
    {
     "data": {
      "text/plain": [
       "INFOSYS LIMITED                                    130257\n",
       "TATA CONSULTANCY SERVICES LIMITED                   64273\n",
       "WIPRO LIMITED                                       45673\n",
       "DELOITTE CONSULTING LLP                             35999\n",
       "IBM INDIA PRIVATE LIMITED                           33585\n",
       "ACCENTURE LLP                                       33226\n",
       "MICROSOFT CORPORATION                               25551\n",
       "HCL AMERICA, INC.                                   22488\n",
       "ERNST & YOUNG U.S. LLP                              18094\n",
       "COGNIZANT TECHNOLOGY SOLUTIONS U.S. CORPORATION     17322\n",
       "Name: EMPLOYER_NAME, dtype: int64"
      ]
     },
     "execution_count": 172,
     "metadata": {},
     "output_type": "execute_result"
    }
   ],
   "source": [
    "employer_counts=data['EMPLOYER_NAME'].value_counts()\n",
    "employer_counts[:10]"
   ]
  },
  {
   "cell_type": "code",
   "execution_count": 175,
   "metadata": {},
   "outputs": [
    {
     "data": {
      "text/plain": [
       "Computer Systems Analysts                    286598\n",
       "Computer Programmers                         222563\n",
       "SOFTWARE DEVELOPERS, APPLICATIONS            218833\n",
       "COMPUTER SYSTEMS ANALYSTS                    212579\n",
       "Software Developers, Applications            190063\n",
       "COMPUTER PROGRAMMERS                         169473\n",
       "COMPUTER OCCUPATIONS, ALL OTHER              107370\n",
       "Computer Occupations, All Other               68564\n",
       "Software Developers, Systems Software         43723\n",
       "SOFTWARE DEVELOPERS, SYSTEMS SOFTWARE         38921\n",
       "Management Analysts                           37731\n",
       "Financial Analysts                            33486\n",
       "Computer Software Engineers, Applications     32766\n",
       "Accountants and Auditors                      29239\n",
       "MANAGEMENT ANALYSTS                           27598\n",
       "Computer Occupations, All Other*              25313\n",
       "Mechanical Engineers                          24102\n",
       "Electronics Engineers, Except Computer        22934\n",
       "Database Administrators                       21488\n",
       "ACCOUNTANTS AND AUDITORS                      21374\n",
       "Name: SOC_NAME, dtype: int64"
      ]
     },
     "execution_count": 175,
     "metadata": {},
     "output_type": "execute_result"
    }
   ],
   "source": [
    "profession_counts=data['SOC_NAME'].value_counts()\n",
    "profession_counts[:20]"
   ]
  },
  {
   "cell_type": "code",
   "execution_count": 176,
   "metadata": {},
   "outputs": [
    {
     "data": {
      "text/plain": [
       "PROGRAMMER ANALYST             243357\n",
       "SOFTWARE ENGINEER              118897\n",
       "COMPUTER PROGRAMMER             68696\n",
       "SYSTEMS ANALYST                 60754\n",
       "SOFTWARE DEVELOPER              41875\n",
       "BUSINESS ANALYST                38781\n",
       "COMPUTER SYSTEMS ANALYST        34036\n",
       "TECHNOLOGY LEAD - US            28307\n",
       "SENIOR SOFTWARE ENGINEER        26617\n",
       "TECHNOLOGY ANALYST - US         26010\n",
       "ASSISTANT PROFESSOR             24436\n",
       "SENIOR CONSULTANT               24120\n",
       "CONSULTANT                      22643\n",
       "PROJECT MANAGER                 19015\n",
       "DATABASE ADMINISTRATOR          16108\n",
       "PHYSICAL THERAPIST              14203\n",
       "RESEARCH ASSOCIATE              13409\n",
       "COMPUTER PROGRAMMER ANALYST     13116\n",
       "ACCOUNTANT                      12934\n",
       "DEVELOPER                       12737\n",
       "Name: JOB_TITLE, dtype: int64"
      ]
     },
     "execution_count": 176,
     "metadata": {},
     "output_type": "execute_result"
    }
   ],
   "source": [
    "jobs_title_counts=data['JOB_TITLE'].value_counts()\n",
    "jobs_title_counts[:20]"
   ]
  },
  {
   "cell_type": "code",
   "execution_count": 177,
   "metadata": {},
   "outputs": [
    {
     "data": {
      "text/plain": [
       "Y    2469721\n",
       "N     408044\n",
       "Name: FULL_TIME_POSITION, dtype: int64"
      ]
     },
     "execution_count": 177,
     "metadata": {},
     "output_type": "execute_result"
    }
   ],
   "source": [
    "full_time_position_counts=data['FULL_TIME_POSITION'].value_counts()\n",
    "full_time_position_counts[:20]"
   ]
  },
  {
   "cell_type": "code",
   "execution_count": 178,
   "metadata": {},
   "outputs": [
    {
     "data": {
      "text/plain": [
       "2016.0    629299\n",
       "2015.0    600120\n",
       "2014.0    498027\n",
       "2013.0    422427\n",
       "2012.0    394267\n",
       "2011.0    333625\n",
       "Name: YEAR, dtype: int64"
      ]
     },
     "execution_count": 178,
     "metadata": {},
     "output_type": "execute_result"
    }
   ],
   "source": [
    "year_counts=data['YEAR'].value_counts()\n",
    "year_counts[:20]"
   ]
  },
  {
   "cell_type": "code",
   "execution_count": 179,
   "metadata": {},
   "outputs": [
    {
     "data": {
      "text/plain": [
       "NEW YORK, NEW YORK            190863\n",
       "HOUSTON, TEXAS                 83385\n",
       "SAN FRANCISCO, CALIFORNIA      62457\n",
       "ATLANTA, GEORGIA               52008\n",
       "CHICAGO, ILLINOIS              51167\n",
       "SAN JOSE, CALIFORNIA           49582\n",
       "SUNNYVALE, CALIFORNIA          34968\n",
       "DALLAS, TEXAS                  31509\n",
       "BOSTON, MASSACHUSETTS          31336\n",
       "REDMOND, WASHINGTON            30574\n",
       "CHARLOTTE, NORTH CAROLINA      30176\n",
       "IRVING, TEXAS                  29316\n",
       "MOUNTAIN VIEW, CALIFORNIA      29245\n",
       "SAN DIEGO, CALIFORNIA          28656\n",
       "SANTA CLARA, CALIFORNIA        27945\n",
       "JERSEY CITY, NEW JERSEY        26822\n",
       "SEATTLE, WASHINGTON            26745\n",
       "AUSTIN, TEXAS                  26695\n",
       "LOS ANGELES, CALIFORNIA        26393\n",
       "PHILADELPHIA, PENNSYLVANIA     24104\n",
       "Name: WORKSITE, dtype: int64"
      ]
     },
     "execution_count": 179,
     "metadata": {},
     "output_type": "execute_result"
    }
   ],
   "source": [
    "worksite_counts=data['WORKSITE'].value_counts()\n",
    "worksite_counts[:20]"
   ]
  },
  {
   "cell_type": "markdown",
   "metadata": {},
   "source": [
    "# Is the number of petitions with Data Engineer job title increasing over time?"
   ]
  },
  {
   "cell_type": "code",
   "execution_count": 180,
   "metadata": {},
   "outputs": [
    {
     "data": {
      "text/html": [
       "<div>\n",
       "<style>\n",
       "    .dataframe thead tr:only-child th {\n",
       "        text-align: right;\n",
       "    }\n",
       "\n",
       "    .dataframe thead th {\n",
       "        text-align: left;\n",
       "    }\n",
       "\n",
       "    .dataframe tbody tr th {\n",
       "        vertical-align: top;\n",
       "    }\n",
       "</style>\n",
       "<table border=\"1\" class=\"dataframe\">\n",
       "  <thead>\n",
       "    <tr style=\"text-align: right;\">\n",
       "      <th></th>\n",
       "      <th>Unnamed: 0</th>\n",
       "      <th>CASE_STATUS</th>\n",
       "      <th>EMPLOYER_NAME</th>\n",
       "      <th>SOC_NAME</th>\n",
       "      <th>JOB_TITLE</th>\n",
       "      <th>FULL_TIME_POSITION</th>\n",
       "      <th>PREVAILING_WAGE</th>\n",
       "      <th>YEAR</th>\n",
       "      <th>WORKSITE</th>\n",
       "      <th>lon</th>\n",
       "      <th>lat</th>\n",
       "    </tr>\n",
       "  </thead>\n",
       "  <tbody>\n",
       "    <tr>\n",
       "      <th>8238</th>\n",
       "      <td>8239</td>\n",
       "      <td>CERTIFIED</td>\n",
       "      <td>AMAZON WEB SERVICES, INC.</td>\n",
       "      <td>COMPUTER AND INFORMATION SYSTEMS MANAGERS</td>\n",
       "      <td>DATA ENGINEERING MANAGER III</td>\n",
       "      <td>Y</td>\n",
       "      <td>103875.0</td>\n",
       "      <td>2016.0</td>\n",
       "      <td>SEATTLE, WASHINGTON</td>\n",
       "      <td>-122.332071</td>\n",
       "      <td>47.606209</td>\n",
       "    </tr>\n",
       "    <tr>\n",
       "      <th>8669</th>\n",
       "      <td>8670</td>\n",
       "      <td>CERTIFIED</td>\n",
       "      <td>EMC CORPORATION</td>\n",
       "      <td>COMPUTER AND INFORMATION SYSTEMS MANAGERS</td>\n",
       "      <td>MANAGER, DATA ENGINEERING</td>\n",
       "      <td>Y</td>\n",
       "      <td>118414.0</td>\n",
       "      <td>2016.0</td>\n",
       "      <td>SAN FRANCISCO, CALIFORNIA</td>\n",
       "      <td>-122.419415</td>\n",
       "      <td>37.774929</td>\n",
       "    </tr>\n",
       "    <tr>\n",
       "      <th>8823</th>\n",
       "      <td>8824</td>\n",
       "      <td>CERTIFIED</td>\n",
       "      <td>EMC CORPORATION</td>\n",
       "      <td>COMPUTER AND INFORMATION SYSTEMS MANAGERS</td>\n",
       "      <td>MANAGER, DATA ENGINEERING</td>\n",
       "      <td>Y</td>\n",
       "      <td>138133.0</td>\n",
       "      <td>2016.0</td>\n",
       "      <td>NEW YORK, NEW YORK</td>\n",
       "      <td>-74.005941</td>\n",
       "      <td>40.712784</td>\n",
       "    </tr>\n",
       "    <tr>\n",
       "      <th>9339</th>\n",
       "      <td>9340</td>\n",
       "      <td>CERTIFIED</td>\n",
       "      <td>MYFITNESSPAL, INC.</td>\n",
       "      <td>COMPUTER AND INFORMATION SYSTEMS MANAGERS</td>\n",
       "      <td>HEAD OF DATA ENGINEERING &amp; SCIENCE</td>\n",
       "      <td>Y</td>\n",
       "      <td>173056.0</td>\n",
       "      <td>2016.0</td>\n",
       "      <td>SAN FRANCISCO, CALIFORNIA</td>\n",
       "      <td>-122.419415</td>\n",
       "      <td>37.774929</td>\n",
       "    </tr>\n",
       "    <tr>\n",
       "      <th>9535</th>\n",
       "      <td>9536</td>\n",
       "      <td>CERTIFIED</td>\n",
       "      <td>CEB INC.</td>\n",
       "      <td>COMPUTER AND INFORMATION SYSTEMS MANAGERS</td>\n",
       "      <td>DIRECTOR, BIG DATA ENGINEERING</td>\n",
       "      <td>Y</td>\n",
       "      <td>92373.0</td>\n",
       "      <td>2016.0</td>\n",
       "      <td>CHAMPAIGN, ILLINOIS</td>\n",
       "      <td>-88.243383</td>\n",
       "      <td>40.116420</td>\n",
       "    </tr>\n",
       "  </tbody>\n",
       "</table>\n",
       "</div>"
      ],
      "text/plain": [
       "      Unnamed: 0 CASE_STATUS              EMPLOYER_NAME  \\\n",
       "8238        8239   CERTIFIED  AMAZON WEB SERVICES, INC.   \n",
       "8669        8670   CERTIFIED            EMC CORPORATION   \n",
       "8823        8824   CERTIFIED            EMC CORPORATION   \n",
       "9339        9340   CERTIFIED         MYFITNESSPAL, INC.   \n",
       "9535        9536   CERTIFIED                   CEB INC.   \n",
       "\n",
       "                                       SOC_NAME  \\\n",
       "8238  COMPUTER AND INFORMATION SYSTEMS MANAGERS   \n",
       "8669  COMPUTER AND INFORMATION SYSTEMS MANAGERS   \n",
       "8823  COMPUTER AND INFORMATION SYSTEMS MANAGERS   \n",
       "9339  COMPUTER AND INFORMATION SYSTEMS MANAGERS   \n",
       "9535  COMPUTER AND INFORMATION SYSTEMS MANAGERS   \n",
       "\n",
       "                               JOB_TITLE FULL_TIME_POSITION  PREVAILING_WAGE  \\\n",
       "8238        DATA ENGINEERING MANAGER III                  Y         103875.0   \n",
       "8669           MANAGER, DATA ENGINEERING                  Y         118414.0   \n",
       "8823           MANAGER, DATA ENGINEERING                  Y         138133.0   \n",
       "9339  HEAD OF DATA ENGINEERING & SCIENCE                  Y         173056.0   \n",
       "9535      DIRECTOR, BIG DATA ENGINEERING                  Y          92373.0   \n",
       "\n",
       "        YEAR                   WORKSITE         lon        lat  \n",
       "8238  2016.0        SEATTLE, WASHINGTON -122.332071  47.606209  \n",
       "8669  2016.0  SAN FRANCISCO, CALIFORNIA -122.419415  37.774929  \n",
       "8823  2016.0         NEW YORK, NEW YORK  -74.005941  40.712784  \n",
       "9339  2016.0  SAN FRANCISCO, CALIFORNIA -122.419415  37.774929  \n",
       "9535  2016.0        CHAMPAIGN, ILLINOIS  -88.243383  40.116420  "
      ]
     },
     "execution_count": 180,
     "metadata": {},
     "output_type": "execute_result"
    }
   ],
   "source": [
    "data_engineer=data['JOB_TITLE'].str.contains('DATA ENGINEER')\n",
    "data[data_engineer][:5]"
   ]
  },
  {
   "cell_type": "code",
   "execution_count": 181,
   "metadata": {},
   "outputs": [
    {
     "data": {
      "text/plain": [
       "1704"
      ]
     },
     "execution_count": 181,
     "metadata": {},
     "output_type": "execute_result"
    }
   ],
   "source": [
    "len(data[data_engineer])"
   ]
  },
  {
   "cell_type": "code",
   "execution_count": 182,
   "metadata": {
    "collapsed": true
   },
   "outputs": [],
   "source": [
    "data_engineer=data[data_engineer]"
   ]
  },
  {
   "cell_type": "code",
   "execution_count": 201,
   "metadata": {},
   "outputs": [
    {
     "data": {
      "text/plain": [
       "18885    DIRECTOR OF HARDWARE ENGINEERING\n",
       "19018      DIRECTOR, HARDWARE ENGINEERING\n",
       "19022      DIRECTOR, HARDWARE ENGINEERING\n",
       "19031        MANAGER HARDWARE ENGINEERING\n",
       "19287        MANAGER HARDWARE ENGINEERING\n",
       "Name: JOB_TITLE, dtype: object"
      ]
     },
     "execution_count": 201,
     "metadata": {},
     "output_type": "execute_result"
    }
   ],
   "source": [
    "data_engineer['JOB_TITLE'].head()"
   ]
  },
  {
   "cell_type": "code",
   "execution_count": 186,
   "metadata": {},
   "outputs": [
    {
     "data": {
      "text/plain": [
       "2016.0    781\n",
       "2015.0    392\n",
       "2014.0    245\n",
       "2013.0    147\n",
       "2012.0     80\n",
       "2011.0     59\n",
       "Name: YEAR, dtype: int64"
      ]
     },
     "execution_count": 186,
     "metadata": {},
     "output_type": "execute_result"
    }
   ],
   "source": [
    "data_engineer_counts=data_engineer['YEAR'].value_counts()\n",
    "data_engineer_counts"
   ]
  },
  {
   "cell_type": "code",
   "execution_count": 187,
   "metadata": {},
   "outputs": [
    {
     "data": {
      "text/plain": [
       "<matplotlib.axes._subplots.AxesSubplot at 0x3d8ff5a940>"
      ]
     },
     "execution_count": 187,
     "metadata": {},
     "output_type": "execute_result"
    },
    {
     "data": {
      "image/png": "[encoded data removed]",
      "text/plain": [
       "<matplotlib.figure.Figure at 0x3d85026ef0>"
      ]
     },
     "metadata": {},
     "output_type": "display_data"
    }
   ],
   "source": [
    "data_engineer_counts.plot(kind='bar',figsize=(10,7))"
   ]
  },
  {
   "cell_type": "markdown",
   "metadata": {},
   "source": [
    "# Which part of the US has the most Hardware Engineer jobs?"
   ]
  },
  {
   "cell_type": "code",
   "execution_count": 192,
   "metadata": {},
   "outputs": [
    {
     "data": {
      "text/html": [
       "<div>\n",
       "<style>\n",
       "    .dataframe thead tr:only-child th {\n",
       "        text-align: right;\n",
       "    }\n",
       "\n",
       "    .dataframe thead th {\n",
       "        text-align: left;\n",
       "    }\n",
       "\n",
       "    .dataframe tbody tr th {\n",
       "        vertical-align: top;\n",
       "    }\n",
       "</style>\n",
       "<table border=\"1\" class=\"dataframe\">\n",
       "  <thead>\n",
       "    <tr style=\"text-align: right;\">\n",
       "      <th></th>\n",
       "      <th>Unnamed: 0</th>\n",
       "      <th>CASE_STATUS</th>\n",
       "      <th>EMPLOYER_NAME</th>\n",
       "      <th>SOC_NAME</th>\n",
       "      <th>JOB_TITLE</th>\n",
       "      <th>FULL_TIME_POSITION</th>\n",
       "      <th>PREVAILING_WAGE</th>\n",
       "      <th>YEAR</th>\n",
       "      <th>WORKSITE</th>\n",
       "      <th>lon</th>\n",
       "      <th>lat</th>\n",
       "    </tr>\n",
       "  </thead>\n",
       "  <tbody>\n",
       "    <tr>\n",
       "      <th>18885</th>\n",
       "      <td>18886</td>\n",
       "      <td>CERTIFIED</td>\n",
       "      <td>LEEO, INC.</td>\n",
       "      <td>ARCHITECTURAL AND ENGINEERING MANAGERS</td>\n",
       "      <td>DIRECTOR OF HARDWARE ENGINEERING</td>\n",
       "      <td>Y</td>\n",
       "      <td>130395.0</td>\n",
       "      <td>2016.0</td>\n",
       "      <td>PALO ALTO, CALIFORNIA</td>\n",
       "      <td>-122.143020</td>\n",
       "      <td>37.441883</td>\n",
       "    </tr>\n",
       "    <tr>\n",
       "      <th>19018</th>\n",
       "      <td>19019</td>\n",
       "      <td>CERTIFIED</td>\n",
       "      <td>QUALCOMM TECHNOLOGIES, INC.</td>\n",
       "      <td>ARCHITECTURAL AND ENGINEERING MANAGERS</td>\n",
       "      <td>DIRECTOR, HARDWARE ENGINEERING</td>\n",
       "      <td>Y</td>\n",
       "      <td>157394.0</td>\n",
       "      <td>2016.0</td>\n",
       "      <td>SAN DIEGO, CALIFORNIA</td>\n",
       "      <td>-117.161084</td>\n",
       "      <td>32.715738</td>\n",
       "    </tr>\n",
       "    <tr>\n",
       "      <th>19022</th>\n",
       "      <td>19023</td>\n",
       "      <td>CERTIFIED</td>\n",
       "      <td>QUALCOMM TECHNOLOGIES, INC.</td>\n",
       "      <td>ARCHITECTURAL AND ENGINEERING MANAGERS</td>\n",
       "      <td>DIRECTOR, HARDWARE ENGINEERING</td>\n",
       "      <td>Y</td>\n",
       "      <td>157394.0</td>\n",
       "      <td>2016.0</td>\n",
       "      <td>SAN DIEGO, CALIFORNIA</td>\n",
       "      <td>-117.161084</td>\n",
       "      <td>32.715738</td>\n",
       "    </tr>\n",
       "    <tr>\n",
       "      <th>19031</th>\n",
       "      <td>19032</td>\n",
       "      <td>CERTIFIED</td>\n",
       "      <td>NVIDIA CORPORATION</td>\n",
       "      <td>ARCHITECTURAL AND ENGINEERING MANAGERS</td>\n",
       "      <td>MANAGER HARDWARE ENGINEERING</td>\n",
       "      <td>Y</td>\n",
       "      <td>167743.0</td>\n",
       "      <td>2016.0</td>\n",
       "      <td>SANTA CLARA, CALIFORNIA</td>\n",
       "      <td>-121.955236</td>\n",
       "      <td>37.354108</td>\n",
       "    </tr>\n",
       "    <tr>\n",
       "      <th>19287</th>\n",
       "      <td>19288</td>\n",
       "      <td>CERTIFIED</td>\n",
       "      <td>NVIDIA CORPORATION</td>\n",
       "      <td>ARCHITECTURAL AND ENGINEERING MANAGERS</td>\n",
       "      <td>MANAGER HARDWARE ENGINEERING</td>\n",
       "      <td>Y</td>\n",
       "      <td>171257.0</td>\n",
       "      <td>2016.0</td>\n",
       "      <td>SANTA CLARA, CALIFORNIA</td>\n",
       "      <td>-121.955236</td>\n",
       "      <td>37.354108</td>\n",
       "    </tr>\n",
       "  </tbody>\n",
       "</table>\n",
       "</div>"
      ],
      "text/plain": [
       "       Unnamed: 0 CASE_STATUS                EMPLOYER_NAME  \\\n",
       "18885       18886   CERTIFIED                   LEEO, INC.   \n",
       "19018       19019   CERTIFIED  QUALCOMM TECHNOLOGIES, INC.   \n",
       "19022       19023   CERTIFIED  QUALCOMM TECHNOLOGIES, INC.   \n",
       "19031       19032   CERTIFIED           NVIDIA CORPORATION   \n",
       "19287       19288   CERTIFIED           NVIDIA CORPORATION   \n",
       "\n",
       "                                     SOC_NAME  \\\n",
       "18885  ARCHITECTURAL AND ENGINEERING MANAGERS   \n",
       "19018  ARCHITECTURAL AND ENGINEERING MANAGERS   \n",
       "19022  ARCHITECTURAL AND ENGINEERING MANAGERS   \n",
       "19031  ARCHITECTURAL AND ENGINEERING MANAGERS   \n",
       "19287  ARCHITECTURAL AND ENGINEERING MANAGERS   \n",
       "\n",
       "                              JOB_TITLE FULL_TIME_POSITION  PREVAILING_WAGE  \\\n",
       "18885  DIRECTOR OF HARDWARE ENGINEERING                  Y         130395.0   \n",
       "19018    DIRECTOR, HARDWARE ENGINEERING                  Y         157394.0   \n",
       "19022    DIRECTOR, HARDWARE ENGINEERING                  Y         157394.0   \n",
       "19031      MANAGER HARDWARE ENGINEERING                  Y         167743.0   \n",
       "19287      MANAGER HARDWARE ENGINEERING                  Y         171257.0   \n",
       "\n",
       "         YEAR                 WORKSITE         lon        lat  \n",
       "18885  2016.0    PALO ALTO, CALIFORNIA -122.143020  37.441883  \n",
       "19018  2016.0    SAN DIEGO, CALIFORNIA -117.161084  32.715738  \n",
       "19022  2016.0    SAN DIEGO, CALIFORNIA -117.161084  32.715738  \n",
       "19031  2016.0  SANTA CLARA, CALIFORNIA -121.955236  37.354108  \n",
       "19287  2016.0  SANTA CLARA, CALIFORNIA -121.955236  37.354108  "
      ]
     },
     "execution_count": 192,
     "metadata": {},
     "output_type": "execute_result"
    }
   ],
   "source": [
    "hardware_engineer=(data['SOC_NAME'].str.contains('HARDWARE ENGINEER')) | (data['JOB_TITLE'].str.contains('HARDWARE ENGINEER'))\n",
    "data[hardware_engineer][:5]"
   ]
  },
  {
   "cell_type": "code",
   "execution_count": 193,
   "metadata": {},
   "outputs": [
    {
     "data": {
      "text/plain": [
       "8389"
      ]
     },
     "execution_count": 193,
     "metadata": {},
     "output_type": "execute_result"
    }
   ],
   "source": [
    "len(data[hardware_engineer])"
   ]
  },
  {
   "cell_type": "code",
   "execution_count": 197,
   "metadata": {
    "collapsed": true
   },
   "outputs": [],
   "source": [
    "hardware_engineer=data[hardware_engineer]"
   ]
  },
  {
   "cell_type": "code",
   "execution_count": 199,
   "metadata": {},
   "outputs": [
    {
     "data": {
      "text/plain": [
       "SAN DIEGO, CALIFORNIA      2866\n",
       "SANTA CLARA, CALIFORNIA     916\n",
       "SAN JOSE, CALIFORNIA        690\n",
       "FOLSOM, CALIFORNIA          408\n",
       "RALEIGH, NORTH CAROLINA     359\n",
       "Name: WORKSITE, dtype: int64"
      ]
     },
     "execution_count": 199,
     "metadata": {},
     "output_type": "execute_result"
    }
   ],
   "source": [
    "hardware_engineer_counts=hardware_engineer['WORKSITE'].value_counts()\n",
    "hardware_engineer_counts.head()"
   ]
  },
  {
   "cell_type": "code",
   "execution_count": 203,
   "metadata": {},
   "outputs": [
    {
     "data": {
      "text/plain": [
       "<matplotlib.axes._subplots.AxesSubplot at 0x3d8460f438>"
      ]
     },
     "execution_count": 203,
     "metadata": {},
     "output_type": "execute_result"
    },
    {
     "data": {
      "image/png": "[encoded data removed]",
      "text/plain": [
       "<matplotlib.figure.Figure at 0x3d8461ee80>"
      ]
     },
     "metadata": {},
     "output_type": "display_data"
    }
   ],
   "source": [
    "hardware_engineer_counts[:5].plot(kind='bar',figsize=(10,7))"
   ]
  },
  {
   "cell_type": "markdown",
   "metadata": {},
   "source": [
    "# Which industry has the most number of Data Scientist positions?"
   ]
  },
  {
   "cell_type": "code",
   "execution_count": 208,
   "metadata": {},
   "outputs": [
    {
     "data": {
      "text/html": [
       "<div>\n",
       "<style>\n",
       "    .dataframe thead tr:only-child th {\n",
       "        text-align: right;\n",
       "    }\n",
       "\n",
       "    .dataframe thead th {\n",
       "        text-align: left;\n",
       "    }\n",
       "\n",
       "    .dataframe tbody tr th {\n",
       "        vertical-align: top;\n",
       "    }\n",
       "</style>\n",
       "<table border=\"1\" class=\"dataframe\">\n",
       "  <thead>\n",
       "    <tr style=\"text-align: right;\">\n",
       "      <th></th>\n",
       "      <th>Unnamed: 0</th>\n",
       "      <th>CASE_STATUS</th>\n",
       "      <th>EMPLOYER_NAME</th>\n",
       "      <th>SOC_NAME</th>\n",
       "      <th>JOB_TITLE</th>\n",
       "      <th>FULL_TIME_POSITION</th>\n",
       "      <th>PREVAILING_WAGE</th>\n",
       "      <th>YEAR</th>\n",
       "      <th>WORKSITE</th>\n",
       "      <th>lon</th>\n",
       "      <th>lat</th>\n",
       "    </tr>\n",
       "  </thead>\n",
       "  <tbody>\n",
       "    <tr>\n",
       "      <th>8793</th>\n",
       "      <td>8794</td>\n",
       "      <td>CERTIFIED</td>\n",
       "      <td>MEMORIAL SLOAN-KETTERING CANCER CENTER</td>\n",
       "      <td>COMPUTER AND INFORMATION SYSTEMS MANAGERS</td>\n",
       "      <td>SENIOR DATA SCIENTIST, DESIGN</td>\n",
       "      <td>Y</td>\n",
       "      <td>82035.0</td>\n",
       "      <td>2016.0</td>\n",
       "      <td>NEW YORK, NEW YORK</td>\n",
       "      <td>-74.005941</td>\n",
       "      <td>40.712784</td>\n",
       "    </tr>\n",
       "    <tr>\n",
       "      <th>10022</th>\n",
       "      <td>10023</td>\n",
       "      <td>CERTIFIED</td>\n",
       "      <td>SMARKING, INC.</td>\n",
       "      <td>COMPUTER AND INFORMATION SYSTEMS MANAGERS</td>\n",
       "      <td>CHIEF DATA SCIENTIST</td>\n",
       "      <td>Y</td>\n",
       "      <td>118414.0</td>\n",
       "      <td>2016.0</td>\n",
       "      <td>SAN FRANCISCO, CALIFORNIA</td>\n",
       "      <td>-122.419415</td>\n",
       "      <td>37.774929</td>\n",
       "    </tr>\n",
       "    <tr>\n",
       "      <th>11523</th>\n",
       "      <td>11524</td>\n",
       "      <td>CERTIFIED</td>\n",
       "      <td>INTEGRAL AD SCIENCE INC.</td>\n",
       "      <td>COMPUTER AND INFORMATION SYSTEMS MANAGERS</td>\n",
       "      <td>SENIOR DATA SCIENTIST</td>\n",
       "      <td>Y</td>\n",
       "      <td>169541.0</td>\n",
       "      <td>2016.0</td>\n",
       "      <td>NEW YORK, NEW YORK</td>\n",
       "      <td>-74.005941</td>\n",
       "      <td>40.712784</td>\n",
       "    </tr>\n",
       "    <tr>\n",
       "      <th>12612</th>\n",
       "      <td>12613</td>\n",
       "      <td>CERTIFIED</td>\n",
       "      <td>BENEFITFOCUS.COM, INC.</td>\n",
       "      <td>COMPUTER AND INFORMATION SYSTEMS MANAGERS</td>\n",
       "      <td>DATA SCIENTIST</td>\n",
       "      <td>Y</td>\n",
       "      <td>104333.0</td>\n",
       "      <td>2016.0</td>\n",
       "      <td>CHARLESTON, SOUTH CAROLINA</td>\n",
       "      <td>-79.931051</td>\n",
       "      <td>32.776475</td>\n",
       "    </tr>\n",
       "    <tr>\n",
       "      <th>32948</th>\n",
       "      <td>32949</td>\n",
       "      <td>CERTIFIED</td>\n",
       "      <td>COMCAST CABLE COMMUNICATIONS, LLC</td>\n",
       "      <td>MANAGEMENT ANALYSTS</td>\n",
       "      <td>ASSOCIATE DATA SCIENTIST</td>\n",
       "      <td>N</td>\n",
       "      <td>55973.0</td>\n",
       "      <td>2016.0</td>\n",
       "      <td>NEW YORK, NEW YORK</td>\n",
       "      <td>-74.005941</td>\n",
       "      <td>40.712784</td>\n",
       "    </tr>\n",
       "  </tbody>\n",
       "</table>\n",
       "</div>"
      ],
      "text/plain": [
       "       Unnamed: 0 CASE_STATUS                           EMPLOYER_NAME  \\\n",
       "8793         8794   CERTIFIED  MEMORIAL SLOAN-KETTERING CANCER CENTER   \n",
       "10022       10023   CERTIFIED                          SMARKING, INC.   \n",
       "11523       11524   CERTIFIED                INTEGRAL AD SCIENCE INC.   \n",
       "12612       12613   CERTIFIED                  BENEFITFOCUS.COM, INC.   \n",
       "32948       32949   CERTIFIED       COMCAST CABLE COMMUNICATIONS, LLC   \n",
       "\n",
       "                                        SOC_NAME  \\\n",
       "8793   COMPUTER AND INFORMATION SYSTEMS MANAGERS   \n",
       "10022  COMPUTER AND INFORMATION SYSTEMS MANAGERS   \n",
       "11523  COMPUTER AND INFORMATION SYSTEMS MANAGERS   \n",
       "12612  COMPUTER AND INFORMATION SYSTEMS MANAGERS   \n",
       "32948                        MANAGEMENT ANALYSTS   \n",
       "\n",
       "                           JOB_TITLE FULL_TIME_POSITION  PREVAILING_WAGE  \\\n",
       "8793   SENIOR DATA SCIENTIST, DESIGN                  Y          82035.0   \n",
       "10022           CHIEF DATA SCIENTIST                  Y         118414.0   \n",
       "11523          SENIOR DATA SCIENTIST                  Y         169541.0   \n",
       "12612                 DATA SCIENTIST                  Y         104333.0   \n",
       "32948       ASSOCIATE DATA SCIENTIST                  N          55973.0   \n",
       "\n",
       "         YEAR                    WORKSITE         lon        lat  \n",
       "8793   2016.0          NEW YORK, NEW YORK  -74.005941  40.712784  \n",
       "10022  2016.0   SAN FRANCISCO, CALIFORNIA -122.419415  37.774929  \n",
       "11523  2016.0          NEW YORK, NEW YORK  -74.005941  40.712784  \n",
       "12612  2016.0  CHARLESTON, SOUTH CAROLINA  -79.931051  32.776475  \n",
       "32948  2016.0          NEW YORK, NEW YORK  -74.005941  40.712784  "
      ]
     },
     "execution_count": 208,
     "metadata": {},
     "output_type": "execute_result"
    }
   ],
   "source": [
    "data_scientist=(data['SOC_NAME'].str.contains('DATA SCIENTIST')) | (data['JOB_TITLE'].str.contains('DATA SCIENTIST'))\n",
    "data[data_scientist][:5]"
   ]
  },
  {
   "cell_type": "code",
   "execution_count": 209,
   "metadata": {},
   "outputs": [
    {
     "data": {
      "text/plain": [
       "3129"
      ]
     },
     "execution_count": 209,
     "metadata": {},
     "output_type": "execute_result"
    }
   ],
   "source": [
    "data_scientist=data[data_scientist]\n",
    "len(data_scientist)"
   ]
  },
  {
   "cell_type": "code",
   "execution_count": 211,
   "metadata": {},
   "outputs": [
    {
     "data": {
      "text/plain": [
       "MICROSOFT CORPORATION        188\n",
       "FACEBOOK, INC.               118\n",
       "LINKEDIN CORPORATION          86\n",
       "TWITTER, INC.                 55\n",
       "UBER TECHNOLOGIES, INC.       54\n",
       "WAL-MART ASSOCIATES, INC.     45\n",
       "GROUPON, INC.                 31\n",
       "PAYPAL, INC.                  30\n",
       "NETFLIX, INC.                 29\n",
       "IBM CORPORATION               26\n",
       "Name: EMPLOYER_NAME, dtype: int64"
      ]
     },
     "execution_count": 211,
     "metadata": {},
     "output_type": "execute_result"
    }
   ],
   "source": [
    "data_scientist_counts=data_scientist['EMPLOYER_NAME'].value_counts()\n",
    "data_scientist_counts.head(10)"
   ]
  },
  {
   "cell_type": "code",
   "execution_count": 212,
   "metadata": {},
   "outputs": [
    {
     "data": {
      "text/plain": [
       "<matplotlib.axes._subplots.AxesSubplot at 0x3d84bbff98>"
      ]
     },
     "execution_count": 212,
     "metadata": {},
     "output_type": "execute_result"
    },
    {
     "data": {
      "image/png": "[encoded data removed]",
      "text/plain": [
       "<matplotlib.figure.Figure at 0x3db2948f28>"
      ]
     },
     "metadata": {},
     "output_type": "display_data"
    }
   ],
   "source": [
    "data_scientist_counts[:5].plot(kind='bar',figsize=(10,7))"
   ]
  },
  {
   "cell_type": "markdown",
   "metadata": {},
   "source": [
    "# Which employers file the most petitions each year?"
   ]
  },
  {
   "cell_type": "code",
   "execution_count": 213,
   "metadata": {},
   "outputs": [
    {
     "data": {
      "text/plain": [
       "INFOSYS LIMITED                                    130257\n",
       "TATA CONSULTANCY SERVICES LIMITED                   64273\n",
       "WIPRO LIMITED                                       45673\n",
       "DELOITTE CONSULTING LLP                             35999\n",
       "IBM INDIA PRIVATE LIMITED                           33585\n",
       "ACCENTURE LLP                                       33226\n",
       "MICROSOFT CORPORATION                               25551\n",
       "HCL AMERICA, INC.                                   22488\n",
       "ERNST & YOUNG U.S. LLP                              18094\n",
       "COGNIZANT TECHNOLOGY SOLUTIONS U.S. CORPORATION     17322\n",
       "Name: EMPLOYER_NAME, dtype: int64"
      ]
     },
     "execution_count": 213,
     "metadata": {},
     "output_type": "execute_result"
    }
   ],
   "source": [
    "employer_counts=data['EMPLOYER_NAME'].value_counts()\n",
    "employer_counts[:10]"
   ]
  },
  {
   "cell_type": "code",
   "execution_count": 215,
   "metadata": {},
   "outputs": [
    {
     "data": {
      "text/plain": [
       "<matplotlib.axes._subplots.AxesSubplot at 0x3db2849c18>"
      ]
     },
     "execution_count": 215,
     "metadata": {},
     "output_type": "execute_result"
    },
    {
     "data": {
      "image/png": "[encoded data removed]",
      "text/plain": [
       "<matplotlib.figure.Figure at 0x3db2793a20>"
      ]
     },
     "metadata": {},
     "output_type": "display_data"
    }
   ],
   "source": [
    "employer_counts[:5].plot(kind='bar',figsize=(10,7))"
   ]
  },
  {
   "cell_type": "code",
   "execution_count": null,
   "metadata": {
    "collapsed": true
   },
   "outputs": [],
   "source": []
  }
 ],
 "metadata": {
  "kernelspec": {
   "display_name": "Python 3",
   "language": "python",
   "name": "python3"
  },
  "language_info": {
   "codemirror_mode": {
    "name": "ipython",
    "version": 3
   },
   "file_extension": ".py",
   "mimetype": "text/x-python",
   "name": "python",
   "nbconvert_exporter": "python",
   "pygments_lexer": "ipython3",
   "version": "3.6.2"
  }
 },
 "nbformat": 4,
 "nbformat_minor": 2
}
